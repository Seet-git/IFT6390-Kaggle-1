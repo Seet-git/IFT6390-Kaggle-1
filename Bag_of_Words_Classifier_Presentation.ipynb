{
 "cells": [
  {
   "cell_type": "markdown",
   "id": "da400536",
   "metadata": {},
   "source": [
    "# Analyse Statistique Avancée pour le Classifieur Bag of Words"
   ]
  },
  {
   "cell_type": "markdown",
   "id": "cce52120",
   "metadata": {},
   "source": [
    "## Introduction"
   ]
  },
  {
   "cell_type": "markdown",
   "id": "62265eff",
   "metadata": {},
   "source": [
    "Ce notebook propose une analyse avancée de données textuelles pour le classifieur Bag of Words. Il inclut des statistiques descriptives, des visualisations de la distribution des classes, et des comparaisons de performances entre les méthodes Naïve Bayes et Réseaux de Neurones."
   ]
  },
  {
   "cell_type": "markdown",
   "id": "31abf6a5",
   "metadata": {},
   "source": [
    "## Distribution des Classes"
   ]
  },
  {
   "cell_type": "code",
   "execution_count": null,
   "id": "4393941f",
   "metadata": {},
   "outputs": [],
   "source": [
    "\n",
    "# Visualisation de la distribution des classes\n",
    "import matplotlib.pyplot as plt\n",
    "import seaborn as sns\n",
    "import pandas as pd\n",
    "\n",
    "# Exemple de dataframe de base (à remplacer par vos données)\n",
    "df = pd.DataFrame({'target': y_train})  # Modifier si nécessaire\n",
    "class_distribution = df['target'].value_counts()\n",
    "\n",
    "plt.figure(figsize=(8, 6))\n",
    "sns.barplot(x=class_distribution.index, y=class_distribution.values)\n",
    "plt.xlabel('Classe')\n",
    "plt.ylabel('Nombre d'échantillons')\n",
    "plt.title('Distribution des Classes dans les Données d'Entraînement')\n",
    "plt.show()\n",
    "        "
   ]
  },
  {
   "cell_type": "markdown",
   "id": "0dc956ae",
   "metadata": {},
   "source": [
    "## Statistiques de Longueur des Documents"
   ]
  },
  {
   "cell_type": "code",
   "execution_count": null,
   "id": "9bb4191c",
   "metadata": {},
   "outputs": [],
   "source": [
    "\n",
    "# Calcul et visualisation des statistiques de longueur des documents\n",
    "doc_lengths = [len(doc.split()) for doc in X_train]\n",
    "\n",
    "plt.figure(figsize=(10, 6))\n",
    "plt.hist(doc_lengths, bins=30, color='purple', alpha=0.7)\n",
    "plt.xlabel('Longueur des Documents (nombre de mots)')\n",
    "plt.ylabel('Nombre de Documents')\n",
    "plt.title('Distribution des Longueurs des Documents')\n",
    "plt.show()\n",
    "\n",
    "# Affichage de statistiques de base\n",
    "import numpy as np\n",
    "print(f'Longueur moyenne des documents : {np.mean(doc_lengths):.2f} mots')\n",
    "print(f'Longueur minimale des documents : {np.min(doc_lengths)} mots')\n",
    "print(f'Longueur maximale des documents : {np.max(doc_lengths)} mots')\n",
    "        "
   ]
  },
  {
   "cell_type": "markdown",
   "id": "459a42bf",
   "metadata": {},
   "source": [
    "## Exploration des Fréquences des Mots"
   ]
  },
  {
   "cell_type": "code",
   "execution_count": null,
   "id": "79626c09",
   "metadata": {},
   "outputs": [],
   "source": [
    "\n",
    "# Calcul des fréquences des mots\n",
    "from collections import Counter\n",
    "from sklearn.feature_extraction.text import CountVectorizer\n",
    "\n",
    "vectorizer = CountVectorizer()\n",
    "X_train_counts = vectorizer.fit_transform(X_train)\n",
    "word_counts = Counter(dict(zip(vectorizer.get_feature_names_out(), X_train_counts.toarray().sum(axis=0))))\n",
    "\n",
    "# Les mots les plus fréquents\n",
    "most_common_words = word_counts.most_common(20)\n",
    "words, counts = zip(*most_common_words)\n",
    "\n",
    "plt.figure(figsize=(12, 6))\n",
    "sns.barplot(x=list(words), y=list(counts))\n",
    "plt.xticks(rotation=45)\n",
    "plt.xlabel('Mots')\n",
    "plt.ylabel('Fréquence')\n",
    "plt.title('Mots les plus fréquents dans les Données')\n",
    "plt.show()\n",
    "        "
   ]
  },
  {
   "cell_type": "markdown",
   "id": "d48bfd14",
   "metadata": {},
   "source": [
    "## Matrice de Confusion Comparée"
   ]
  },
  {
   "cell_type": "code",
   "execution_count": null,
   "id": "4926d196",
   "metadata": {},
   "outputs": [],
   "source": [
    "\n",
    "# Comparaison des matrices de confusion\n",
    "from sklearn.metrics import confusion_matrix, ConfusionMatrixDisplay\n",
    "\n",
    "# Exemple de prédictions (à remplacer par les prédictions réelles)\n",
    "y_pred_nb = nb_model.predict(X_test)  # Naïve Bayes\n",
    "y_pred_nn = nn_model.predict(X_test)  # Réseau de Neurones\n",
    "\n",
    "# Matrice de confusion pour Naïve Bayes\n",
    "cm_nb = confusion_matrix(y_test, y_pred_nb)\n",
    "disp_nb = ConfusionMatrixDisplay(confusion_matrix=cm_nb)\n",
    "disp_nb.plot()\n",
    "plt.title('Matrice de Confusion - Naïve Bayes')\n",
    "plt.show()\n",
    "\n",
    "# Matrice de confusion pour le Réseau de Neurones\n",
    "cm_nn = confusion_matrix(y_test, y_pred_nn)\n",
    "disp_nn = ConfusionMatrixDisplay(confusion_matrix=cm_nn)\n",
    "disp_nn.plot()\n",
    "plt.title('Matrice de Confusion - Réseau de Neurones')\n",
    "plt.show()\n",
    "        "
   ]
  },
  {
   "cell_type": "markdown",
   "id": "378bd8a4",
   "metadata": {},
   "source": [
    "## Évaluation par Validation Croisée"
   ]
  },
  {
   "cell_type": "code",
   "execution_count": null,
   "id": "1b13f858",
   "metadata": {},
   "outputs": [],
   "source": [
    "\n",
    "# Validation croisée pour évaluer la performance moyenne\n",
    "from sklearn.model_selection import cross_val_score\n",
    "from sklearn.naive_bayes import MultinomialNB\n",
    "from sklearn.neural_network import MLPClassifier\n",
    "\n",
    "# Naïve Bayes\n",
    "nb_classifier = MultinomialNB()\n",
    "nb_scores = cross_val_score(nb_classifier, X_train_counts, y_train, cv=5, scoring='f1_macro')\n",
    "print(f'Score F1 moyen (Naïve Bayes) : {np.mean(nb_scores):.3f}')\n",
    "\n",
    "# Réseau de Neurones (exemple simplifié)\n",
    "nn_classifier = MLPClassifier(max_iter=100)  # Modifier selon les besoins\n",
    "nn_scores = cross_val_score(nn_classifier, X_train_counts, y_train, cv=5, scoring='f1_macro')\n",
    "print(f'Score F1 moyen (Réseau de Neurones) : {np.mean(nn_scores):.3f}')\n",
    "        "
   ]
  },
  {
   "cell_type": "markdown",
   "id": "fc520396",
   "metadata": {},
   "source": [
    "## Conclusion"
   ]
  },
  {
   "cell_type": "markdown",
   "id": "a64d55ea",
   "metadata": {},
   "source": [
    "Ce notebook présente des statistiques avancées et des visualisations pour mieux comprendre la performance et les différences entre les méthodes Naïve Bayes et Réseau de Neurones pour la classification Bag of Words."
   ]
  }
 ],
 "metadata": {},
 "nbformat": 4,
 "nbformat_minor": 5
}
