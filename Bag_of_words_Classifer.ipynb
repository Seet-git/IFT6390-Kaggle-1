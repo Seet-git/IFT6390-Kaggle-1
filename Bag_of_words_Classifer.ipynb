{
 "cells": [
  {
   "metadata": {},
   "cell_type": "markdown",
   "source": [
    "# Analyse statistique pour le Classifieur Bag of Words\n",
    "## Introduction\n",
    "Ce notebook propose une analyse pour un classifier Bag of Words. Il inclut des statistiques descriptives et des visualisations afin de mieux comprendre les données et les modèles"
   ],
   "id": "664edac4e78fee6e"
  },
  {
   "metadata": {
    "collapsed": true,
    "ExecuteTime": {
     "end_time": "2024-11-11T07:37:34.126332Z",
     "start_time": "2024-11-11T07:37:32.647988Z"
    }
   },
   "cell_type": "code",
   "source": "from src.naives_bayes_import import *",
   "id": "initial_id",
   "outputs": [],
   "execution_count": 1
  },
  {
   "metadata": {
    "ExecuteTime": {
     "end_time": "2024-11-11T07:37:34.134149Z",
     "start_time": "2024-11-11T07:37:34.131113Z"
    }
   },
   "cell_type": "code",
   "source": [
    "config.ALGORITHM = \"Naives_bayes\"\n",
    "\n",
    "# <----- CHANGE THIS ------>\n",
    "\n",
    "# Data path\n",
    "data_path = \"./data/\"\n",
    "\n",
    "# BAYESIAN OPTIMISATION\n",
    "# -------------------------------------------------------------\n",
    "n_trials = 2\n",
    "\n",
    "config.OUTPUT_HP_FILENAME = f\"hp_{config.ALGORITHM}\"\n",
    "config.OUTPUT_HP_PATH = \"./hyperparameters/\"\n",
    "config.LOG_PATH = \"./src/Naives_bayes/log/\"\n",
    "\n",
    "# PREDICTIONS\n",
    "# -------------------------------------------------------------\n",
    "# Hyperparameters\n",
    "hp_filename = f\"hp_{config.ALGORITHM}\"\n",
    "hp_path = \"/hyperparameters/\"\n",
    "\n",
    "# Output prediction\n",
    "prediction_filename = f\"{config.ALGORITHM}_pred\"\n",
    "prediction_path = \"./output/\""
   ],
   "id": "7511fcdf41a9443",
   "outputs": [],
   "execution_count": 2
  },
  {
   "metadata": {
    "ExecuteTime": {
     "end_time": "2024-11-11T07:37:35.110885Z",
     "start_time": "2024-11-11T07:37:34.182715Z"
    }
   },
   "cell_type": "code",
   "source": [
    "# Load data\n",
    "config.INPUTS_DOCUMENTS = np.load(f'{data_path}data_train.npy', allow_pickle=True)\n",
    "config.LABELS_DOCUMENTS = pd.read_csv(f'{data_path}label_train.csv').to_numpy()[:, 1]\n",
    "config.TEST_DOCUMENTS = np.load(f'{data_path}data_test.npy', allow_pickle=True)\n",
    "\n",
    "#optimize(n_trials=n_trials)\n",
    "\n",
    "output = f\"{prediction_path}{prediction_filename}\"\n",
    "\n",
    "# Predict\n",
    "save_prediction(output=output, hp_filename=hp_filename, hp_path=hp_path)"
   ],
   "id": "bf381974f1212b3a",
   "outputs": [
    {
     "name": "stdout",
     "output_type": "stream",
     "text": [
      "/hyperparameters\n",
      "/hyperparameters/\n"
     ]
    },
    {
     "ename": "ModuleNotFoundError",
     "evalue": "No module named 'hp_Naives_bayes'",
     "output_type": "error",
     "traceback": [
      "\u001B[0;31m---------------------------------------------------------------------------\u001B[0m",
      "\u001B[0;31mModuleNotFoundError\u001B[0m                       Traceback (most recent call last)",
      "Cell \u001B[0;32mIn[3], line 11\u001B[0m\n\u001B[1;32m      8\u001B[0m output \u001B[38;5;241m=\u001B[39m \u001B[38;5;124mf\u001B[39m\u001B[38;5;124m\"\u001B[39m\u001B[38;5;132;01m{\u001B[39;00mprediction_path\u001B[38;5;132;01m}\u001B[39;00m\u001B[38;5;132;01m{\u001B[39;00mprediction_filename\u001B[38;5;132;01m}\u001B[39;00m\u001B[38;5;124m\"\u001B[39m\n\u001B[1;32m     10\u001B[0m \u001B[38;5;66;03m# Predict\u001B[39;00m\n\u001B[0;32m---> 11\u001B[0m \u001B[43msave_prediction\u001B[49m\u001B[43m(\u001B[49m\u001B[43moutput\u001B[49m\u001B[38;5;241;43m=\u001B[39;49m\u001B[43moutput\u001B[49m\u001B[43m,\u001B[49m\u001B[43m \u001B[49m\u001B[43mhp_filename\u001B[49m\u001B[38;5;241;43m=\u001B[39;49m\u001B[43mhp_filename\u001B[49m\u001B[43m,\u001B[49m\u001B[43m \u001B[49m\u001B[43mhp_path\u001B[49m\u001B[38;5;241;43m=\u001B[39;49m\u001B[43mhp_path\u001B[49m\u001B[43m)\u001B[49m\n",
      "File \u001B[0;32m~/Desktop/M1/T1/IFT 6390 - Foundations of ML/Kaggle/ML Kaggle-1-Working/src/Naives_bayes/training_and_saving.py:35\u001B[0m, in \u001B[0;36msave_prediction\u001B[0;34m(output, hp_filename, hp_path)\u001B[0m\n\u001B[1;32m     34\u001B[0m \u001B[38;5;28;01mdef\u001B[39;00m \u001B[38;5;21msave_prediction\u001B[39m(output, hp_filename, hp_path):\n\u001B[0;32m---> 35\u001B[0m     hyperparameters \u001B[38;5;241m=\u001B[39m \u001B[43mload_hyperparams\u001B[49m\u001B[43m(\u001B[49m\u001B[43mhp_filename\u001B[49m\u001B[43m,\u001B[49m\u001B[43m \u001B[49m\u001B[43mhp_path\u001B[49m\u001B[43m)\u001B[49m\n\u001B[1;32m     37\u001B[0m     X_train, X_test \u001B[38;5;241m=\u001B[39m remove_low_high_frequency(hyperparameters\u001B[38;5;241m.\u001B[39mlow_threshold, hyperparameters\u001B[38;5;241m.\u001B[39mhigh_threshold)\n\u001B[1;32m     39\u001B[0m     \u001B[38;5;66;03m# Train the model\u001B[39;00m\n",
      "File \u001B[0;32m~/Desktop/M1/T1/IFT 6390 - Foundations of ML/Kaggle/ML Kaggle-1-Working/src/Naives_bayes/training_and_saving.py:18\u001B[0m, in \u001B[0;36mload_hyperparams\u001B[0;34m(filename, file_path)\u001B[0m\n\u001B[1;32m     15\u001B[0m     sys\u001B[38;5;241m.\u001B[39mpath\u001B[38;5;241m.\u001B[39mappend(full_path)\n\u001B[1;32m     17\u001B[0m \u001B[38;5;66;03m# Charger le module spécifié\u001B[39;00m\n\u001B[0;32m---> 18\u001B[0m \u001B[38;5;28;01mreturn\u001B[39;00m \u001B[43mimportlib\u001B[49m\u001B[38;5;241;43m.\u001B[39;49m\u001B[43mimport_module\u001B[49m\u001B[43m(\u001B[49m\u001B[43mfilename\u001B[49m\u001B[43m)\u001B[49m\n",
      "File \u001B[0;32m~/miniconda3/envs/ift6390-conda-env/lib/python3.9/importlib/__init__.py:127\u001B[0m, in \u001B[0;36mimport_module\u001B[0;34m(name, package)\u001B[0m\n\u001B[1;32m    125\u001B[0m             \u001B[38;5;28;01mbreak\u001B[39;00m\n\u001B[1;32m    126\u001B[0m         level \u001B[38;5;241m+\u001B[39m\u001B[38;5;241m=\u001B[39m \u001B[38;5;241m1\u001B[39m\n\u001B[0;32m--> 127\u001B[0m \u001B[38;5;28;01mreturn\u001B[39;00m \u001B[43m_bootstrap\u001B[49m\u001B[38;5;241;43m.\u001B[39;49m\u001B[43m_gcd_import\u001B[49m\u001B[43m(\u001B[49m\u001B[43mname\u001B[49m\u001B[43m[\u001B[49m\u001B[43mlevel\u001B[49m\u001B[43m:\u001B[49m\u001B[43m]\u001B[49m\u001B[43m,\u001B[49m\u001B[43m \u001B[49m\u001B[43mpackage\u001B[49m\u001B[43m,\u001B[49m\u001B[43m \u001B[49m\u001B[43mlevel\u001B[49m\u001B[43m)\u001B[49m\n",
      "File \u001B[0;32m<frozen importlib._bootstrap>:1030\u001B[0m, in \u001B[0;36m_gcd_import\u001B[0;34m(name, package, level)\u001B[0m\n",
      "File \u001B[0;32m<frozen importlib._bootstrap>:1007\u001B[0m, in \u001B[0;36m_find_and_load\u001B[0;34m(name, import_)\u001B[0m\n",
      "File \u001B[0;32m<frozen importlib._bootstrap>:984\u001B[0m, in \u001B[0;36m_find_and_load_unlocked\u001B[0;34m(name, import_)\u001B[0m\n",
      "\u001B[0;31mModuleNotFoundError\u001B[0m: No module named 'hp_Naives_bayes'"
     ]
    }
   ],
   "execution_count": 3
  },
  {
   "metadata": {},
   "cell_type": "code",
   "source": "",
   "id": "a5bbcf4cdc85c3f",
   "outputs": [],
   "execution_count": null
  },
  {
   "metadata": {},
   "cell_type": "code",
   "source": "",
   "id": "8fcebf8e7c45d2d2",
   "outputs": [],
   "execution_count": null
  }
 ],
 "metadata": {
  "kernelspec": {
   "display_name": "Python 3",
   "language": "python",
   "name": "python3"
  },
  "language_info": {
   "codemirror_mode": {
    "name": "ipython",
    "version": 2
   },
   "file_extension": ".py",
   "mimetype": "text/x-python",
   "name": "python",
   "nbconvert_exporter": "python",
   "pygments_lexer": "ipython2",
   "version": "2.7.6"
  }
 },
 "nbformat": 4,
 "nbformat_minor": 5
}
